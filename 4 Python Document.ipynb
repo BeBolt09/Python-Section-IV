{
 "cells": [
  {
   "cell_type": "markdown",
   "metadata": {},
   "source": [
    "# Object-Oriented-Programming (OOP)"
   ]
  },
  {
   "cell_type": "markdown",
   "metadata": {},
   "source": [
    "## Tasks Today:\n",
    "\n",
    "   \n",
    "\n",
    "1) <b>Creating a Class (Initializing/Declaring)</b> <br>\n",
    "2) <b>Using a Class (Instantiating)</b> <br>\n",
    " &nbsp;&nbsp;&nbsp;&nbsp; a) Creating One Instance <br>\n",
    " &nbsp;&nbsp;&nbsp;&nbsp; b) Creating Multiple Instances <br>\n",
    " &nbsp;&nbsp;&nbsp;&nbsp; c) In-Class Exercise #1 - Create a Class 'Car' and instantiate three different makes of cars <br>\n",
    "3) <b>The \\__init\\__() Method</b> <br>\n",
    " &nbsp;&nbsp;&nbsp;&nbsp; a) The 'self' Attribute <br>\n",
    "4) <b>Class Attributes</b> <br>\n",
    " &nbsp;&nbsp;&nbsp;&nbsp; a) Initializing Attributes <br>\n",
    " &nbsp;&nbsp;&nbsp;&nbsp; b) Setting an Attribute Outside of the \\__init\\__() Method <br>\n",
    " &nbsp;&nbsp;&nbsp;&nbsp; c) Setting Defaults for Attributes <br>\n",
    " &nbsp;&nbsp;&nbsp;&nbsp; d) Accessing Class Attributes <br>\n",
    " &nbsp;&nbsp;&nbsp;&nbsp; e) Changing Class Attributes <br>\n",
    " &nbsp;&nbsp;&nbsp;&nbsp; f) In-Class Exercise #2 - Add a color and wheels attribute to your 'Car' class <br>\n",
    "5) <b>Class Methods</b> <br>\n",
    " &nbsp;&nbsp;&nbsp;&nbsp; a) Creating <br>\n",
    " &nbsp;&nbsp;&nbsp;&nbsp; b) Calling <br>\n",
    " &nbsp;&nbsp;&nbsp;&nbsp; c) Modifying an Attribute's Value Through a Method <br>\n",
    " &nbsp;&nbsp;&nbsp;&nbsp; d) Incrementing an Attribute's Value Through a Method <br>\n",
    " &nbsp;&nbsp;&nbsp;&nbsp; e) In-Class Exercise #3 - Add a method that prints the cars color and wheel number, then call them <br>\n",
    "6) <b>Inheritance</b> <br>\n",
    " &nbsp;&nbsp;&nbsp;&nbsp; a) Syntax for Inheriting from a Parent Class <br>\n",
    " &nbsp;&nbsp;&nbsp;&nbsp; b) The \\__init\\__() Method for a Child Class (super()) <br>\n",
    " &nbsp;&nbsp;&nbsp;&nbsp; c) Defining Attributes and Methods for the Child Class <br>\n",
    " &nbsp;&nbsp;&nbsp;&nbsp; d) Method Overriding <br>\n",
    " &nbsp;&nbsp;&nbsp;&nbsp; e) In-Class Exercise #4 - Create a class 'Ford' that inherits from 'Car' class and initialize it as a Blue Ford Explorer with 4 wheels using the super() method <br>\n",
    "7) <b>Classes as Attributes</b> <br>\n",
    "8) <b>Exercises</b> <br>\n",
    " &nbsp;&nbsp;&nbsp;&nbsp; a) Exercise #1 - Turn the shopping cart program from yesterday into an object-oriented program <br>"
   ]
  },
  {
   "cell_type": "markdown",
   "metadata": {},
   "source": [
    "## Creating a Class (Initializing/Declaring)\n",
    "<p>When creating a class, function, or even a variable you are initializing that object. Initializing and Declaring occur at the same time in Python, whereas in lower level languages you have to declare an object before initializing it. This is the first step in the process of using a class.</p>"
   ]
  },
  {
   "cell_type": "code",
   "execution_count": 64,
   "metadata": {},
   "outputs": [],
   "source": [
    "class Car():\n",
    "    wheels = 4\n",
    "    color = 'blue'"
   ]
  },
  {
   "cell_type": "markdown",
   "metadata": {},
   "source": [
    "## Using a Class (Instantiating)\n",
    "<p>The process of creating a class is called <i>Instantiating</i>. Each time you create a variable of that type of class, it is referred to as an <i>Instance</i> of that class. This is the second step in the process of using a class.</p>"
   ]
  },
  {
   "cell_type": "markdown",
   "metadata": {},
   "source": [
    "##### Creating One Instance"
   ]
  },
  {
   "cell_type": "code",
   "execution_count": 65,
   "metadata": {},
   "outputs": [
    {
     "name": "stdout",
     "output_type": "stream",
     "text": [
      "blue\n"
     ]
    }
   ],
   "source": [
    "ford = Car()\n",
    "print(ford.color)"
   ]
  },
  {
   "cell_type": "markdown",
   "metadata": {},
   "source": [
    "##### Creating Multiple Instances"
   ]
  },
  {
   "cell_type": "code",
   "execution_count": 66,
   "metadata": {},
   "outputs": [
    {
     "name": "stdout",
     "output_type": "stream",
     "text": [
      "<class 'int'>\n",
      "4\n",
      "blue\n"
     ]
    }
   ],
   "source": [
    "bmw=Car()\n",
    "mercedes=Car()\n",
    "honda=Car()\n",
    "\n",
    "print(type(bmw.wheels))\n",
    "print(mercedes.wheels)\n",
    "print(honda.color)"
   ]
  },
  {
   "cell_type": "markdown",
   "metadata": {},
   "source": [
    "##### In-Class Exercise #1 - Create a Class 'Car' and Instantiate three different makes of cars"
   ]
  },
  {
   "cell_type": "code",
   "execution_count": 67,
   "metadata": {},
   "outputs": [
    {
     "name": "stdout",
     "output_type": "stream",
     "text": [
      "5\n",
      "mat grey\n",
      "v6\n"
     ]
    }
   ],
   "source": [
    "class Car():\n",
    "    doors=5\n",
    "    color='mat grey'\n",
    "    engine='v6'\n",
    "    year=2023\n",
    "\n",
    "volkswagen=Car()\n",
    "porshe=Car()\n",
    "toyota=Car()\n",
    "\n",
    "print(volkswagen.doors)\n",
    "print(porshe.color)\n",
    "print(toyota.engine)"
   ]
  },
  {
   "cell_type": "markdown",
   "metadata": {},
   "source": [
    "## The \\__init\\__() Method <br>\n",
    "<p>This method is used in almost every created class, and called only once upon the creation of the class instance. This method will initialize all variables needed for the object.</p>"
   ]
  },
  {
   "cell_type": "code",
   "execution_count": 68,
   "metadata": {},
   "outputs": [
    {
     "name": "stdout",
     "output_type": "stream",
     "text": [
      "black 18\n"
     ]
    }
   ],
   "source": [
    "class Car():\n",
    "    engine='v6'\n",
    "\n",
    "    def __init__(self,color,wheels):\n",
    "        self.color=color\n",
    "        self.wheels=wheels\n",
    "\n",
    "mazda=Car('black',18)\n",
    "print(mazda.color+' '+str(mazda.wheels))"
   ]
  },
  {
   "cell_type": "markdown",
   "metadata": {},
   "source": [
    "##### The 'self' Attribute <br>\n",
    "<p>This attribute is required to keep track of specific instance's attributes. Without the self attribute, the program would not know how to reference or keep track of an instance's attributes.</p>"
   ]
  },
  {
   "cell_type": "markdown",
   "metadata": {},
   "source": [
    "## Class Attributes <br>\n",
    "<p>While variables are inside of a class, they are referred to as attributes and not variables. When someone says 'attribute' you know they're speaking about a class. Attributes can be initialized through the init method, or outside of it.</p>"
   ]
  },
  {
   "cell_type": "markdown",
   "metadata": {},
   "source": [
    "##### Initializing Attributes"
   ]
  },
  {
   "cell_type": "code",
   "execution_count": 69,
   "metadata": {},
   "outputs": [],
   "source": [
    "# see above\n",
    "\n",
    "class Toy():\n",
    "    kind='car' #This is called a constant\n",
    "\n",
    "    def __init__(self,rooftop,horn,wheels):\n",
    "        self.rooftop=rooftop\n",
    "        self.horn=horn\n",
    "        self.wheels=wheels\n",
    "\n",
    "tonka_truck=Toy(1,1,4)\n",
    "hot_wheels_car=Toy(0,0,4)"
   ]
  },
  {
   "cell_type": "markdown",
   "metadata": {},
   "source": [
    "##### Accessing Class Attributes"
   ]
  },
  {
   "cell_type": "code",
   "execution_count": 70,
   "metadata": {
    "scrolled": true
   },
   "outputs": [
    {
     "data": {
      "text/plain": [
       "4"
      ]
     },
     "execution_count": 70,
     "metadata": {},
     "output_type": "execute_result"
    }
   ],
   "source": [
    "# See Above\n",
    "tonka_truck.rooftop\n",
    "hot_wheels_car.wheels"
   ]
  },
  {
   "cell_type": "markdown",
   "metadata": {},
   "source": [
    "##### Setting Defaults for Attributes"
   ]
  },
  {
   "cell_type": "code",
   "execution_count": 71,
   "metadata": {},
   "outputs": [
    {
     "name": "stdout",
     "output_type": "stream",
     "text": [
      "blue\n",
      "18\n"
     ]
    }
   ],
   "source": [
    "class Car():\n",
    "    engine='v6'\n",
    "\n",
    "    def __init__(self):\n",
    "        self.color='blue'\n",
    "        self.wheels=18\n",
    "    \n",
    "tacoma=Car()\n",
    "print(tacoma.color)\n",
    "print(tacoma.wheels)"
   ]
  },
  {
   "cell_type": "markdown",
   "metadata": {},
   "source": [
    "##### Changing Class Attributes <br>\n",
    "<p>Keep in mind there are global class attributes and then there are attributes only available to each class instance which won't effect other classes.</p>"
   ]
  },
  {
   "cell_type": "code",
   "execution_count": 72,
   "metadata": {},
   "outputs": [
    {
     "name": "stdout",
     "output_type": "stream",
     "text": [
      "blue\n",
      "green\n"
     ]
    }
   ],
   "source": [
    "volkswagen=Car()\n",
    "print(volkswagen.color)\n",
    "\n",
    "volkswagen.color='green'\n",
    "print(volkswagen.color)"
   ]
  },
  {
   "cell_type": "markdown",
   "metadata": {},
   "source": [
    "##### In-Class Exercise #2 - Add a doors and seats attribute to your 'Car' class then print out two different instances with different doors and seats"
   ]
  },
  {
   "cell_type": "code",
   "execution_count": 73,
   "metadata": {},
   "outputs": [
    {
     "name": "stdout",
     "output_type": "stream",
     "text": [
      "This audi has 2 doors and 2 seats\n",
      "This Range_rover has 4 doors and 5 seats\n"
     ]
    }
   ],
   "source": [
    "class Car():\n",
    "    def __init__(self,doors,seats):\n",
    "        self.doors=doors\n",
    "        self.seats=seats\n",
    "\n",
    "audi=Car(2,2)\n",
    "print(f'This audi has {audi.doors} doors and {audi.seats} seats')\n",
    "range_rover=Car(4,5)\n",
    "print(f'This Range_rover has {range_rover.doors} doors and {range_rover.seats} seats')\n",
    "\n"
   ]
  },
  {
   "cell_type": "markdown",
   "metadata": {},
   "source": [
    "## Class Methods <br>\n",
    "<p>While inside of a class, functions are referred to as 'methods'. If you hear someone mention methods, they're speaking about classes. Methods are essentially functions, but only callable on the instances of a class.</p>"
   ]
  },
  {
   "cell_type": "markdown",
   "metadata": {},
   "source": [
    "##### Creating"
   ]
  },
  {
   "cell_type": "code",
   "execution_count": 74,
   "metadata": {},
   "outputs": [],
   "source": [
    "class ShoppingBag():\n",
    "    \"\"\"\n",
    "    The Shopping Bag class will have handles, \n",
    "    capacity and items to place inside\n",
    "\n",
    "    Attributes of the shopping bag class are :\n",
    "    - handles : expected to be int\n",
    "    - capacity : string or int\n",
    "    - items : list of strings\n",
    "    \"\"\"\n",
    "    def __init__(self,handles,capacity,items):\n",
    "        self.handles=handles\n",
    "        self.capacity=capacity\n",
    "        self.items=items\n",
    "\n",
    "    #Making a method that shows items\n",
    "    def showShoppingBag(self):\n",
    "        print('you have items in your bag')\n",
    "        for item in self.items:\n",
    "            print(item)\n",
    "\n",
    "    #Show how much room is left with capacity\n",
    "    def showCapacity(self):\n",
    "        print(f'your capacity is {self.capacity}')\n",
    "    \n",
    "    #add items to the shopping bag\n",
    "    def addToShoppingBag(self):\n",
    "        product=input(\"add an item to shopping bag\")\n",
    "        self.items.append(product)\n",
    "    \n",
    "    #change the capacity of the shopping bag\n",
    "    def changeCapacity(self,capacity):\n",
    "        self.capacity=capacity\n",
    "\n",
    "    #increase capacity of the shopping bag by a default amount(10)\n",
    "    def increaseCapacity(self,changed_capacity=10):\n",
    "        if self.capacity== isinstance(self.capacity,str):\n",
    "            print(\"we can't add this here\")\n",
    "        else:\n",
    "            self.capacity+=changed_capacity\n",
    "\n"
   ]
  },
  {
   "cell_type": "markdown",
   "metadata": {},
   "source": [
    "##### Calling"
   ]
  },
  {
   "cell_type": "code",
   "execution_count": 75,
   "metadata": {},
   "outputs": [
    {
     "name": "stdout",
     "output_type": "stream",
     "text": [
      "you have items in your bag\n",
      "try another command\n",
      "try another command\n",
      "you have items in your bag\n",
      "coffee\n",
      "water\n",
      "cheese\n",
      "Thanks for shopping!\n"
     ]
    }
   ],
   "source": [
    "# See Above\n",
    "wholeFoodBag=ShoppingBag(2,10,[])\n",
    "#create a function to run the shopping bag methods on our whole foods bag\n",
    "def run():\n",
    "    while True:\n",
    "        response=input('show/add/quit')\n",
    "        if response=='quit':\n",
    "            wholeFoodBag.showShoppingBag()\n",
    "            print(\"Thanks for shopping!\")\n",
    "            break\n",
    "        elif response=='add':\n",
    "            wholeFoodBag.addToShoppingBag()\n",
    "        elif response=='show':\n",
    "            wholeFoodBag.showShoppingBag()\n",
    "        else:\n",
    "            print(\"try another command\")\n",
    "\n",
    "run()"
   ]
  },
  {
   "cell_type": "markdown",
   "metadata": {},
   "source": [
    "##### Modifying an Attribute's Value Through a Method"
   ]
  },
  {
   "cell_type": "code",
   "execution_count": 76,
   "metadata": {},
   "outputs": [
    {
     "name": "stdout",
     "output_type": "stream",
     "text": [
      "your capacity is 10\n",
      "capacity after the change...\n",
      "your capacity is 40\n"
     ]
    }
   ],
   "source": [
    "wholeFoodBag.showCapacity()\n",
    "print('capacity after the change...')\n",
    "wholeFoodBag.changeCapacity(40)\n",
    "wholeFoodBag.showCapacity()"
   ]
  },
  {
   "cell_type": "markdown",
   "metadata": {},
   "source": [
    "##### Incrementing an Attribute's Value Through a Method"
   ]
  },
  {
   "cell_type": "code",
   "execution_count": 77,
   "metadata": {},
   "outputs": [
    {
     "name": "stdout",
     "output_type": "stream",
     "text": [
      "your capacity is 40\n",
      "after the increase...\n",
      "your capacity is 50\n"
     ]
    }
   ],
   "source": [
    "wholeFoodBag.showCapacity()\n",
    "print(\"after the increase...\")\n",
    "wholeFoodBag.increaseCapacity()\n",
    "wholeFoodBag.showCapacity()"
   ]
  },
  {
   "cell_type": "markdown",
   "metadata": {},
   "source": [
    "##### In-Class Exercise #3 - Add a method that takes in three parameters of year, doors and seats and prints out a formatted print statement with make, model, year, seats, and doors"
   ]
  },
  {
   "cell_type": "code",
   "execution_count": 78,
   "metadata": {},
   "outputs": [
    {
     "name": "stdout",
     "output_type": "stream",
     "text": [
      "The BMW X6 2024 has 4 doors and 5 seats.\n"
     ]
    }
   ],
   "source": [
    "# Create class with 2 paramters inside of the __init__ which are make and model\n",
    "class Car():\n",
    "    def __init__(self,make,model):\n",
    "        self.make=make\n",
    "        self.model=model\n",
    "# Inside of the Car class create a method that has 4 parameter in total (self,year,door,seats)\n",
    "    def formatCar(self,year,door,seats):\n",
    "        self.year=year\n",
    "        self.door=door\n",
    "        self.seats=seats\n",
    "        print(f'The {self.make} {self.model} {self.year} has {self.door} doors and {self.seats} seats.')\n",
    "# Output: This car is from 2019 and is a Ford Expolorer and has 4 doors and 5 seats\n",
    "\n",
    "renauld=Car('BMW','X6')\n",
    "renauld.formatCar(2024,4,5)\n",
    "\n"
   ]
  },
  {
   "cell_type": "markdown",
   "metadata": {},
   "source": [
    "## Inheritance <br>\n",
    "<p>You can create a child-parent relationship between two classes by using inheritance. What this allows you to do is have overriding methods, but also inherit traits from the parent class. Think of it as an actual parent and child, the child will inherit the parent's genes, as will the classes in OOP</p>"
   ]
  },
  {
   "cell_type": "markdown",
   "metadata": {},
   "source": [
    "##### Syntax for Inheriting from a Parent Class"
   ]
  },
  {
   "cell_type": "code",
   "execution_count": 79,
   "metadata": {},
   "outputs": [
    {
     "name": "stdout",
     "output_type": "stream",
     "text": [
      "bark\n",
      "Make some generic sound\n",
      "None\n",
      "9.8\n"
     ]
    }
   ],
   "source": [
    "#Create a parent class and call it animal\n",
    "class Animal():\n",
    "    acceleration=9.8\n",
    "\n",
    "    def __init__(self,name,species,legs=4):\n",
    "        self.name=name\n",
    "        self.species=species\n",
    "        self.legs=legs\n",
    "    \n",
    "    #Generic Parent Method- This is not overriding anything\n",
    "    def makeSound(self):\n",
    "        print('Make some generic sound')\n",
    "\n",
    "#Now we are making our child class... Dog\n",
    "class Dog(Animal):\n",
    "    speed=15\n",
    "\n",
    "    def printInfo(self):\n",
    "        print(f'The dog had {self.speed}mph in speed and {self.acceleration}')\n",
    "\n",
    "#Creation of our Grand-Child Class - - mutt\n",
    "class Mutt(Dog):\n",
    "    color='tan'\n",
    "\n",
    "    #override the animal class using the dog class to overwrite the __init__ from anumal\n",
    "    def __init__(self, name, species,eye_color, legs=4):\n",
    "        Dog.__init__(self,name,species,legs)\n",
    "        self.eye_color=eye_color\n",
    "\n",
    "    def makeSound(self):\n",
    "        noise='bark'\n",
    "        return noise\n",
    "    \n",
    "lassie=Dog('Lassie','Dog')\n",
    "basic_animal=Animal('Generic Animal Name','Generic Animal Species')\n",
    "buster=Mutt('buster','mutt','brown')\n",
    "\n",
    "print(buster.makeSound())\n",
    "print(lassie.makeSound())\n",
    "print(buster.acceleration)"
   ]
  },
  {
   "cell_type": "markdown",
   "metadata": {},
   "source": [
    "##### The \\__init\\__() Method for a Child Class - super()"
   ]
  },
  {
   "cell_type": "code",
   "execution_count": 80,
   "metadata": {
    "scrolled": true
   },
   "outputs": [
    {
     "name": "stdout",
     "output_type": "stream",
     "text": [
      "bark\n",
      "Make some generic sound\n",
      "None\n",
      "9.8\n"
     ]
    }
   ],
   "source": [
    "class Puppy(Dog):\n",
    "    color='black and brown'\n",
    "\n",
    "    #Override the animal class __innit__\n",
    "    def __init__(self, name, species,eye_color, legs=4):\n",
    "        super().__init__(name, species, legs)\n",
    "        self.eye_color=eye_color\n",
    "\n",
    "    #Override the makeSound() Method\n",
    "    def makeSound(self):\n",
    "        noise='Bark'\n",
    "        return noise\n",
    "    \n",
    "lassie=Dog('Lassie','Dog')\n",
    "basic_animal=Animal('Generic Animal Name','Generic Animal Species')\n",
    "buster=Mutt('buster','mutt','brown')\n",
    "\n",
    "print(buster.makeSound())\n",
    "print(lassie.makeSound())\n",
    "print(buster.acceleration)"
   ]
  },
  {
   "cell_type": "markdown",
   "metadata": {},
   "source": [
    "##### Defining Attributes and Methods for the Child Class"
   ]
  },
  {
   "cell_type": "code",
   "execution_count": 81,
   "metadata": {},
   "outputs": [],
   "source": [
    "# See Above"
   ]
  },
  {
   "cell_type": "markdown",
   "metadata": {},
   "source": [
    "##### Method Overriding"
   ]
  },
  {
   "cell_type": "code",
   "execution_count": 82,
   "metadata": {},
   "outputs": [],
   "source": [
    "# See Above"
   ]
  },
  {
   "cell_type": "markdown",
   "metadata": {},
   "source": [
    "## Classes as Attributes <br>\n",
    "<p>Classes can also be used as attributes within another class. This is useful in situations where you need to keep variables locally stored, instead of globally stored.</p>"
   ]
  },
  {
   "cell_type": "code",
   "execution_count": 3,
   "metadata": {},
   "outputs": [
    {
     "name": "stdout",
     "output_type": "stream",
     "text": [
      "20\n"
     ]
    },
    {
     "data": {
      "text/plain": [
       "'2019 Tesla Model X 20'"
      ]
     },
     "execution_count": 3,
     "metadata": {},
     "output_type": "execute_result"
    }
   ],
   "source": [
    "class Battery():\n",
    "    volts=7.8\n",
    "\n",
    "    def __init__(self,cells):\n",
    "        self.cells=cells\n",
    "\n",
    "class Car():\n",
    "    def __init__(self,year,make,model,battery):\n",
    "        self.year=year\n",
    "        self.make=make\n",
    "        self.model=model\n",
    "        self.battery=battery\n",
    "\n",
    "    def printInfo(self):\n",
    "        return f'{self.year} {self.make} {self.model} {self.battery.cells}'\n",
    "    \n",
    "my_battery=Battery(20)\n",
    "\n",
    "tesla=Car(2019,'Tesla','Model X', my_battery)\n",
    "print(tesla.battery.cells)\n",
    "tesla.printInfo()"
   ]
  },
  {
   "cell_type": "markdown",
   "metadata": {},
   "source": [
    "# Exercises"
   ]
  },
  {
   "cell_type": "markdown",
   "metadata": {},
   "source": [
    "### Exercise 1 - Turn the shopping cart program from yesterday into an object-oriented program\n",
    "\n",
    "The comments in the cell below are there as a guide for thinking about the problem. However, if you feel a different way is best for you and your own thought process, please do what feels best for you by all means."
   ]
  },
  {
   "cell_type": "code",
   "execution_count": 6,
   "metadata": {},
   "outputs": [
    {
     "name": "stdout",
     "output_type": "stream",
     "text": [
      "you have items in your bag\n",
      "Chocolate\n",
      "Celcius\n",
      "Steak\n",
      "you have items in your bag\n",
      "Celcius\n",
      "Steak\n",
      "Thanks for shopping!\n"
     ]
    }
   ],
   "source": [
    "# Create a class called cart that retains items and has methods to add, remove, and show\n",
    "class Cart():\n",
    "    def __init__(self,items):\n",
    "        self.items=items\n",
    "\n",
    "    #Making a method that shows items\n",
    "    def showCart(self):\n",
    "        print('you have items in your bag')\n",
    "        for item in self.items:\n",
    "            print(item)\n",
    "    \n",
    "    #add items to the shopping bag\n",
    "    def addToCart(self):\n",
    "        product=input(\"add an item to shopping bag\")\n",
    "        self.items.append(product)\n",
    "\n",
    "    def removeFromCart(self):\n",
    "        productToRemove=input(\"what do you want to remove?\")\n",
    "        self.items.remove(productToRemove)\n",
    "\n",
    "walmartCart=Cart([])\n",
    "\n",
    "def do():\n",
    "    while True:\n",
    "        response=input('show/add/del/quit')\n",
    "        if response=='quit':\n",
    "            walmartCart.showCart()\n",
    "            print(\"Thanks for shopping!\")\n",
    "            break\n",
    "        elif response=='add':\n",
    "            walmartCart.addToCart()\n",
    "        elif response=='show':\n",
    "            walmartCart.showCart()\n",
    "        elif response=='del':\n",
    "            walmartCart.removeFromCart()\n",
    "        else:\n",
    "            print(\"try another command\")\n",
    "\n",
    "do()\n",
    "        \n",
    "    "
   ]
  },
  {
   "cell_type": "markdown",
   "metadata": {},
   "source": [
    "### Exercise 2 \n",
    "<h4>Write a Python class which has two methods: [get_String()] and [print_String()] . get_String() accept a string from the user and print_String() prints the string in upper case</h4>"
   ]
  },
  {
   "cell_type": "code",
   "execution_count": 7,
   "metadata": {},
   "outputs": [
    {
     "name": "stdout",
     "output_type": "stream",
     "text": [
      "Uppercase String:  WORD\n"
     ]
    }
   ],
   "source": [
    "class StringManipulator:\n",
    "    def __init__(self):\n",
    "        self.input_string = \"\"\n",
    "\n",
    "    def get_String(self):\n",
    "        self.input_string = input(\"Enter a string: \")\n",
    "\n",
    "    def print_String(self):\n",
    "        print(\"Uppercase String: \", self.input_string.upper())\n",
    "\n",
    "# Example usage:\n",
    "string_manipulator = StringManipulator()\n",
    "string_manipulator.get_String()\n",
    "string_manipulator.print_String()"
   ]
  }
 ],
 "metadata": {
  "kernelspec": {
   "display_name": "Python 3",
   "language": "python",
   "name": "python3"
  },
  "language_info": {
   "codemirror_mode": {
    "name": "ipython",
    "version": 3
   },
   "file_extension": ".py",
   "mimetype": "text/x-python",
   "name": "python",
   "nbconvert_exporter": "python",
   "pygments_lexer": "ipython3",
   "version": "3.9.12"
  }
 },
 "nbformat": 4,
 "nbformat_minor": 2
}
